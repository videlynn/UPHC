{
  "nbformat": 4,
  "nbformat_minor": 0,
  "metadata": {
    "colab": {
      "provenance": [],
      "authorship_tag": "ABX9TyMdoKA3jUiT5aojMfflyFJe",
      "include_colab_link": true
    },
    "kernelspec": {
      "name": "python3",
      "display_name": "Python 3"
    },
    "language_info": {
      "name": "python"
    }
  },
  "cells": [
    {
      "cell_type": "markdown",
      "metadata": {
        "id": "view-in-github",
        "colab_type": "text"
      },
      "source": [
        "<a href=\"https://colab.research.google.com/github/videlynn/UPHC/blob/main/exercise_2.ipynb\" target=\"_parent\"><img src=\"https://colab.research.google.com/assets/colab-badge.svg\" alt=\"Open In Colab\"/></a>"
      ]
    },
    {
      "cell_type": "code",
      "execution_count": null,
      "metadata": {
        "colab": {
          "base_uri": "https://localhost:8080/"
        },
        "id": "QHKF00BCdkIn",
        "outputId": "4b2adec9-f992-477c-ebef-14e73208a115"
      },
      "outputs": [
        {
          "output_type": "stream",
          "name": "stdout",
          "text": [
            "Total cost for width 2m is $170.00\n"
          ]
        }
      ],
      "source": [
        "def cost_of_materials(w):\n",
        "    if w == 0:  # To avoid division by zero\n",
        "        return float('inf')  # Infinite cost if width is zero (just for representation)\n",
        "    return 20 * w**2 + 180 / w\n",
        "\n",
        "# Example usage:\n",
        "width = 2  # Replace with desired width value\n",
        "total_cost = cost_of_materials(width)\n",
        "print(f\"Total cost for width {width}m is ${total_cost:.2f}\")\n"
      ]
    }
  ]
}